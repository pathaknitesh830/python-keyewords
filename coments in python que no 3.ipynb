{
 "cells": [
  {
   "cell_type": "code",
   "execution_count": 3,
   "id": "73e62c72-1f9d-4227-ac91-6f7a00ab9a00",
   "metadata": {},
   "outputs": [
    {
     "name": "stdin",
     "output_type": "stream",
     "text": [
      "Enter a number:  34\n"
     ]
    },
    {
     "name": "stdout",
     "output_type": "stream",
     "text": [
      "The square of 34.0 is 1156.0\n"
     ]
    },
    {
     "data": {
      "text/plain": [
       "'\\nuses of comments\\nCode Documentation: Comments serve as documentation, explaining the purpose and functionality of different parts of the code. \\nThis is especially valuable for large or complex projects.\\n\\nCode Understanding: Comments help others (or even the original author) understand the logic and reasoning behind specific code sections. \\nThey improve code readability.\\n\\nDebugging: Comments can be used to temporarily disable or comment out sections of code during debugging without removing the actual code.\\n\\nCollaboration: When multiple developers work on the same codebase, comments provide a means of communication,\\nhelping others understand the intentions behind certain decisions or implementations.\\n\\n'"
      ]
     },
     "execution_count": 3,
     "metadata": {},
     "output_type": "execute_result"
    }
   ],
   "source": [
    "#questions no 3-What are comments in Python, and why are they usefull, Provide an example?\n",
    "'''\n",
    "In Python, comments are annotations within the code that are ignored during the program's execution\n",
    ". Comments are used to add explanatory notes or descriptions to the code, making it more readable and understandable \n",
    "for both the developer and others who may review or collaborate on the code.\n",
    "Python supports two types of comments:\n",
    "1. Single-line comments: Created using the # symbol. Anything following # on the same line is treated as a comment\n",
    "\n",
    "\n",
    "\n",
    "2. Multi-line comments: Achieved using triple-quotes (''' or \"\"\"). \n",
    "Although not technically comments, they are often used to achieve a similar effect.\n",
    "\n",
    "\n",
    "This is a multi-line comment\n",
    "spanning multiple lines.\n",
    "It uses triple-quotes.\n",
    "\"\"\"\n",
    "\n",
    "\"\"\"\n",
    "Another way to write\n",
    "a multi-line \"comment.\"\n",
    "\"\"\"\n",
    "# This is a simple Python program\n",
    "# that calculates the square of a number.\n",
    "\n",
    "# Get user input\n",
    "user_input = float(input(\"Enter a number: \"))  # Convert input to a float\n",
    "\n",
    "# Calculate the square\n",
    "square_result = user_input ** 2\n",
    "\n",
    "# Display the result\n",
    "print(f\"The square of {user_input} is {square_result}\")\n",
    "\n",
    "\n",
    "\n",
    "\"\"\"\n",
    "uses of comments\n",
    "Code Documentation: Comments serve as documentation, explaining the purpose and functionality of different parts of the code. \n",
    "This is especially valuable for large or complex projects.\n",
    "\n",
    "Code Understanding: Comments help others (or even the original author) understand the logic and reasoning behind specific code sections. \n",
    "They improve code readability.\n",
    "\n",
    "Debugging: Comments can be used to temporarily disable or comment out sections of code during debugging without removing the actual code.\n",
    "\n",
    "Collaboration: When multiple developers work on the same codebase, comments provide a means of communication,\n",
    "helping others understand the intentions behind certain decisions or implementations.\n",
    "\n",
    "\"\"\""
   ]
  },
  {
   "cell_type": "code",
   "execution_count": null,
   "id": "2d2d4cfe-33b0-4a0f-b3df-5938f8a32668",
   "metadata": {},
   "outputs": [],
   "source": []
  },
  {
   "cell_type": "code",
   "execution_count": null,
   "id": "a92fbb68-b2fd-41db-ba51-88668db01196",
   "metadata": {},
   "outputs": [],
   "source": []
  },
  {
   "cell_type": "code",
   "execution_count": null,
   "id": "ad57ddef-12f8-4d3d-bac3-12589183de26",
   "metadata": {},
   "outputs": [],
   "source": []
  }
 ],
 "metadata": {
  "kernelspec": {
   "display_name": "Python 3 (ipykernel)",
   "language": "python",
   "name": "python3"
  },
  "language_info": {
   "codemirror_mode": {
    "name": "ipython",
    "version": 3
   },
   "file_extension": ".py",
   "mimetype": "text/x-python",
   "name": "python",
   "nbconvert_exporter": "python",
   "pygments_lexer": "ipython3",
   "version": "3.10.8"
  }
 },
 "nbformat": 4,
 "nbformat_minor": 5
}
