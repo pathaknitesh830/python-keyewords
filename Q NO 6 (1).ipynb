{
 "cells": [
  {
   "cell_type": "code",
   "execution_count": 4,
   "id": "c576a02a-81ba-4521-a2d3-bc4a48beb3ca",
   "metadata": {},
   "outputs": [
    {
     "name": "stdout",
     "output_type": "stream",
     "text": [
      "20\n"
     ]
    }
   ],
   "source": [
    "#QUESTION NO 6 Differentiate 0etween expression and statement in Python with examples\n",
    "\n",
    "#In Python, both expressions and statements are fundamental components of the language, but they serve different purposes.\n",
    "\n",
    "\n",
    "#Expression:\n",
    "\n",
    "#An expression is a combination of values, variables, operators, and function calls that results in a single value. \n",
    "#Expressions can be as simple as a single variable or as complex as a combination of multiple operations.\n",
    "\n",
    "\n",
    "\n",
    "# Simple expression\n",
    "x = 10\n",
    "\n",
    "# Arithmetic expression\n",
    "y = x + 5 * 2\n",
    "\n",
    "print(y)"
   ]
  },
  {
   "cell_type": "code",
   "execution_count": null,
   "id": "56344316-0d1e-4fd8-97fa-06e36601b9d5",
   "metadata": {},
   "outputs": [],
   "source": []
  },
  {
   "cell_type": "code",
   "execution_count": 5,
   "id": "5e1ca97b-2651-4eac-b9da-05d864052b07",
   "metadata": {},
   "outputs": [
    {
     "name": "stdout",
     "output_type": "stream",
     "text": [
      "Positive\n",
      "42\n",
      "41\n",
      "40\n",
      "39\n",
      "38\n",
      "37\n",
      "36\n",
      "35\n",
      "34\n",
      "33\n",
      "32\n",
      "31\n",
      "30\n",
      "29\n",
      "28\n",
      "27\n",
      "26\n",
      "25\n",
      "24\n",
      "23\n",
      "22\n",
      "21\n",
      "20\n",
      "19\n",
      "18\n",
      "17\n",
      "16\n",
      "15\n",
      "14\n",
      "13\n",
      "12\n",
      "11\n",
      "10\n",
      "9\n",
      "8\n",
      "7\n",
      "6\n",
      "5\n",
      "4\n",
      "3\n",
      "2\n",
      "1\n"
     ]
    }
   ],
   "source": [
    "#Statement:\n",
    "\n",
    "#A statement is a complete line of code that performs an action. Unlike expressions, statements do not necessarily result in a value. \n",
    "#Statements often involve keywords that control the flow of the program, define structures, or perform operations.\n",
    "\n",
    "# Assignment statement\n",
    "a = 42\n",
    "\n",
    "# Conditional statement (if-else)\n",
    "if a > 0:\n",
    "    print(\"Positive\")\n",
    "else:\n",
    "    print(\"Non-positive\")\n",
    "\n",
    "# Loop statement (while)\n",
    "while a > 0:\n",
    "    print(a)\n",
    "    a -= 1\n"
   ]
  },
  {
   "cell_type": "code",
   "execution_count": null,
   "id": "49eafe80-3820-4c00-87be-212857f18e20",
   "metadata": {},
   "outputs": [],
   "source": []
  },
  {
   "cell_type": "code",
   "execution_count": null,
   "id": "bf1c7b80-0da3-43b6-8c0f-8286af86c495",
   "metadata": {},
   "outputs": [],
   "source": []
  },
  {
   "cell_type": "code",
   "execution_count": null,
   "id": "ffdcbc7a-258b-4777-93bf-3d313d0c907c",
   "metadata": {},
   "outputs": [],
   "source": []
  },
  {
   "cell_type": "code",
   "execution_count": null,
   "id": "abedb289-a951-40a5-8b6a-138bf7757c03",
   "metadata": {},
   "outputs": [],
   "source": []
  },
  {
   "cell_type": "code",
   "execution_count": null,
   "id": "f1583429-522e-4160-9c23-c0a99a435c4a",
   "metadata": {},
   "outputs": [],
   "source": []
  },
  {
   "cell_type": "code",
   "execution_count": null,
   "id": "bdfce630-b983-499c-96ea-594fc69e3332",
   "metadata": {},
   "outputs": [],
   "source": []
  },
  {
   "cell_type": "code",
   "execution_count": null,
   "id": "f4b9ff0a-7949-4415-9fce-82a9001f207b",
   "metadata": {},
   "outputs": [],
   "source": []
  },
  {
   "cell_type": "code",
   "execution_count": null,
   "id": "71b4b8b9-302a-474d-98af-afa8ad16af30",
   "metadata": {},
   "outputs": [],
   "source": []
  }
 ],
 "metadata": {
  "kernelspec": {
   "display_name": "Python 3 (ipykernel)",
   "language": "python",
   "name": "python3"
  },
  "language_info": {
   "codemirror_mode": {
    "name": "ipython",
    "version": 3
   },
   "file_extension": ".py",
   "mimetype": "text/x-python",
   "name": "python",
   "nbconvert_exporter": "python",
   "pygments_lexer": "ipython3",
   "version": "3.10.8"
  }
 },
 "nbformat": 4,
 "nbformat_minor": 5
}
