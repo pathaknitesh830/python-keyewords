{
 "cells": [
  {
   "cell_type": "code",
   "execution_count": 1,
   "id": "e15b19ec-8e9f-4968-b940-bb22030f1918",
   "metadata": {},
   "outputs": [
    {
     "name": "stdout",
     "output_type": "stream",
     "text": [
      "10\n"
     ]
    }
   ],
   "source": [
    "\n",
    "#question no 5 What happens if indentation is incorrect in Python6\n",
    "\n",
    "\n",
    "\"\"\"\n",
    "In Python, indentation is crucial for indicating the structure and scope of code blocks. \n",
    "Incorrect indentation can lead to various issues, and the most common consequence is the generation of IndentationError. Here's what happens when indentation is incorrect:\n",
    "\n",
    "1. IndentationError:\n",
    "\n",
    "The most common outcome of incorrect indentation is the IndentationError exception. This error occurs when the interpreter detects inconsistent or improper indentation within a block of code.\n",
    "Example of incorrect indentation leading to IndentationError:\n",
    "\n",
    "\n",
    "if True:\n",
    "print(\"Incorrect indentation!\")  # Raises IndentationError\n",
    "2. Logical Errors:\n",
    "\n",
    "Incorrect indentation may not always result in a syntax error, but it can lead to logical errors. \n",
    "Statements that are intended to be part of the same block may be interpreted as belonging to different blocks, altering the intended logic of the code.\n",
    "Example of incorrect indentation causing a logical error:\n",
    "\n",
    " code\n",
    "for i in range(5):\n",
    "  print(i)  # This statement is not indented properly\n",
    "\n",
    "\n",
    "3. Unintended Scope Changes:\n",
    "    \n",
    "\n",
    "Incorrect indentation can change the scope of variables or alter the expected behavior of loops, conditions, or functions. This can lead to unexpected results or bugs in the code.\n",
    "Example of unintended scope change due to incorrect indentation:\n",
    "\n",
    "\n",
    "x = 5\n",
    "if x > 0:\n",
    "  y = x * 2  # Incorrect indentation changes the scope of 'y'\n",
    "print(y)  # Raises NameError because 'y' is not defined in this scope\n",
    "\n",
    "\n",
    "4. Code Misinterpretation:\n",
    "\n",
    "The Python interpreter relies on proper indentation to understand the structure of the code. \n",
    "Incorrect indentation can lead to misinterpretation, making it challenging for the interpreter to determine the intended hierarchy and \n",
    "flow of the program.\n",
    "\n",
    "\n",
    "\"\"\"\n",
    "#Example of unintended scope change due to incorrect indentation:\n",
    "x = 5\n",
    "if x > 0:\n",
    "  y = x * 2  # Incorrect indentation changes the scope of 'y'\n",
    "print(y)  # Raises NameError because 'y' is not defined in this scope\n",
    "\n"
   ]
  },
  {
   "cell_type": "code",
   "execution_count": null,
   "id": "ced36b69-a850-499a-95fb-df92ba39f04a",
   "metadata": {},
   "outputs": [],
   "source": []
  }
 ],
 "metadata": {
  "kernelspec": {
   "display_name": "Python 3 (ipykernel)",
   "language": "python",
   "name": "python3"
  },
  "language_info": {
   "codemirror_mode": {
    "name": "ipython",
    "version": 3
   },
   "file_extension": ".py",
   "mimetype": "text/x-python",
   "name": "python",
   "nbconvert_exporter": "python",
   "pygments_lexer": "ipython3",
   "version": "3.10.8"
  }
 },
 "nbformat": 4,
 "nbformat_minor": 5
}
