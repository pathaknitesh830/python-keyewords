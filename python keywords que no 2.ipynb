{
 "cells": [
  {
   "cell_type": "code",
   "execution_count": 1,
   "id": "36f086de-a769-49ae-97ce-f23d0b49b437",
   "metadata": {},
   "outputs": [
    {
     "ename": "SyntaxError",
     "evalue": "invalid decimal literal (909534333.py, line 32)",
     "output_type": "error",
     "traceback": [
      "\u001b[0;36m  Cell \u001b[0;32mIn[1], line 32\u001b[0;36m\u001b[0m\n\u001b[0;31m    1variable = \"Invalid\"  # starts with a digit\u001b[0m\n\u001b[0m    ^\u001b[0m\n\u001b[0;31mSyntaxError\u001b[0m\u001b[0;31m:\u001b[0m invalid decimal literal\n"
     ]
    }
   ],
   "source": [
    "# questions no 2 Descri0e the rules for defining identifiers in Python and provide an example\n",
    "\n",
    "\n",
    "'''\n",
    "Must start with a letter (a-z, A-Z) or an underscore (_):\n",
    "\n",
    "Valid: variable, _variable\n",
    "Invalid: 1variable, @variable\n",
    "Can be followed by letters, underscores, or digits (0-9):\n",
    "\n",
    "Valid: variable_1, my_variable_2\n",
    "Invalid: variable-3, variable@4\n",
    "Case-sensitive:\n",
    "\n",
    "my_variable and My_Variable are considered different identifiers.\n",
    "Cannot be a reserved word (keyword):\n",
    "\n",
    "Identifiers cannot have the same names as Python keywords.\n",
    "No special characters (except underscores) are allowed:\n",
    "\n",
    "Valid: my_variable, variable_name\n",
    "Invalid: variable#, var@name\n",
    "\n",
    "'''\n",
    "\n",
    "# Valid identifiers\n",
    "variable_name = 42\n",
    "_my_variable = \"Hello\"\n",
    "variable2 = True\n",
    "\n",
    "# Invalid identifiers\n",
    "1variable = \"Invalid\"  # starts with a digit\n",
    "variable@3 = 3.14      # contains a special character\n",
    "class = \"Class\"        # uses a reserved keyword\n",
    "\n",
    "# Print values of valid identifiers\n",
    "print(variable_name)   # Output: 42\n",
    "print(_my_variable)     # Output: Hello\n",
    "print(variable2)        # Output: True\n"
   ]
  },
  {
   "cell_type": "code",
   "execution_count": null,
   "id": "3cd2762b-c2f3-4f6c-b791-79389bcd04c9",
   "metadata": {},
   "outputs": [],
   "source": []
  }
 ],
 "metadata": {
  "kernelspec": {
   "display_name": "Python 3 (ipykernel)",
   "language": "python",
   "name": "python3"
  },
  "language_info": {
   "codemirror_mode": {
    "name": "ipython",
    "version": 3
   },
   "file_extension": ".py",
   "mimetype": "text/x-python",
   "name": "python",
   "nbconvert_exporter": "python",
   "pygments_lexer": "ipython3",
   "version": "3.10.8"
  }
 },
 "nbformat": 4,
 "nbformat_minor": 5
}
