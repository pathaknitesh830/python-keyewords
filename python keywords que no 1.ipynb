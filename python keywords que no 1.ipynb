{
 "cells": [
  {
   "cell_type": "code",
   "execution_count": 2,
   "id": "11e3b164-4634-4fe0-908f-accb7a61de46",
   "metadata": {},
   "outputs": [
    {
     "name": "stdout",
     "output_type": "stream",
     "text": [
      "x is greater than 5\n"
     ]
    }
   ],
   "source": [
    "\n",
    "#questions no 1 Explain the significance of Python keywords and provide examples of five keywords\n",
    "\"\"\"\n",
    "#The significance of Python keywords lies in their role in defining the syntax, structure, and functionality of Python programs. Here's a brief overview of the significance of some key Python keywords:\n",
    "\n",
    "#Syntax Definition:\n",
    "\n",
    "Keywords define the syntax and structure of the Python language, establishing rules for writing valid code.\n",
    "Control Flow:\n",
    "\n",
    "Keywords like if, else, elif, for, while, break, and continue control the flow of execution, allowing developers to create conditional statements and loops.\n",
    "Function Definition:\n",
    "\n",
    "The def keyword is used to define functions, and return specifies the value to be returned. Functions facilitate code organization and reusability.\n",
    "Object-Oriented Programming (OOP):\n",
    "\n",
    "Keywords such as class, self, init, and others support the implementation of OOP concepts, enabling the creation of classes and objects.\n",
    "Namespace Management:\n",
    "\n",
    "Keywords like import, from, as, and global manage namespaces, controlling the visibility and scope of variables and functions.\n",
    "Error Handling:\n",
    "\n",
    "Keywords like try, except, finally, and raise handle errors and exceptions, allowing developers to write robust and fault-tolerant code.\n",
    "Bitwise Operations:\n",
    "\n",
    "Keywords like and, or, not, &, |, ^, ~, <<, and >> perform bitwise operations, manipulating individual bits within binary representations.\n",
    "Memory Management:\n",
    "\n",
    "The del keyword contributes to explicit memory management, allowing developers to delete references to objects and manage resources.\n",
    "Boolean Operations:\n",
    "\n",
    "Keywords True, False, and None represent boolean values, supporting logical operations and comparisons.\"\"\"\n",
    "# \"if\" and \"else\"    Conditional statements (if, else) control the flow of the program based on specified conditions.\n",
    "x = 10\n",
    "if x > 5:\n",
    "    print(\"x is greater than 5\")\n",
    "else:\n",
    "    print(\"x is not greater than 5\")\n",
    "\n",
    "\n"
   ]
  },
  {
   "cell_type": "code",
   "execution_count": 3,
   "id": "9c5391f8-6a32-495b-9d78-cc41aa8e7ff6",
   "metadata": {},
   "outputs": [
    {
     "name": "stdout",
     "output_type": "stream",
     "text": [
      "Iteration: 0\n",
      "Iteration: 1\n",
      "Iteration: 2\n"
     ]
    }
   ],
   "source": [
    "#Significance: The for loop is used for iteration, and range generates a sequence of numbers. Together, they facilitate repeated execution of a block of code.\n",
    "#\"for\" , \"range\"\n",
    "\n",
    "for i in range(3):\n",
    "    print(\"Iteration:\", i)\n"
   ]
  },
  {
   "cell_type": "code",
   "execution_count": 4,
   "id": "ff7459cc-a9ac-41a6-88d6-c00a11164bcd",
   "metadata": {},
   "outputs": [
    {
     "name": "stdout",
     "output_type": "stream",
     "text": [
      "Square: 16\n"
     ]
    }
   ],
   "source": [
    "\n",
    "#\"def\" \"return\"\n",
    "#Significance: def is used for defining functions, and return specifies the value to be returned from the function. Functions promote code modularity and reusability.\n",
    "\n",
    "def square(x):\n",
    "    return x ** 2\n",
    "\n",
    "result = square(4)\n",
    "print(\"Square:\", result)\n"
   ]
  },
  {
   "cell_type": "code",
   "execution_count": 6,
   "id": "29bdc426-8568-414f-89ee-7b53f5d6164b",
   "metadata": {},
   "outputs": [
    {
     "name": "stdout",
     "output_type": "stream",
     "text": [
      "Brand: Toyota\n"
     ]
    }
   ],
   "source": [
    "#\"class, __init__, self\"\n",
    "#Significance: These keywords are integral to object-oriented programming. class defines a class, __init__ is a special method for initializing objects, and self refers to the instance of the class.\n",
    "\n",
    "class Car:\n",
    "    def __init__(self, brand):\n",
    "        self.brand = brand\n",
    "\n",
    "    def display_info(self):\n",
    "        print(\"Brand:\", self.brand)\n",
    "\n",
    "my_car = Car(\"Toyota\")\n",
    "my_car.display_info()\n"
   ]
  },
  {
   "cell_type": "code",
   "execution_count": null,
   "id": "6fd71e08-f585-47c1-ba16-773bc82f4707",
   "metadata": {},
   "outputs": [],
   "source": []
  },
  {
   "cell_type": "code",
   "execution_count": 8,
   "id": "36a4d739-f3a1-464c-94d1-d930b054dcce",
   "metadata": {},
   "outputs": [
    {
     "name": "stdout",
     "output_type": "stream",
     "text": [
      "Square root of 25: 5.0\n"
     ]
    }
   ],
   "source": [
    "#\"import math as m\"\n",
    "#Significance: import is used to include external modules, and as allows aliasing to simplify references. Modules enhance code organization and provide additional functionality.\n",
    "\n",
    "import math as m\n",
    "result = m.sqrt(25)\n",
    "print(\"Square root of 25:\", result)\n"
   ]
  },
  {
   "cell_type": "code",
   "execution_count": null,
   "id": "55e9ea65-550e-45f2-9f7e-d8cede31a74e",
   "metadata": {},
   "outputs": [],
   "source": []
  },
  {
   "cell_type": "code",
   "execution_count": null,
   "id": "e47b3771-6983-4c75-a210-9393fc3de86b",
   "metadata": {},
   "outputs": [],
   "source": []
  },
  {
   "cell_type": "code",
   "execution_count": null,
   "id": "5edeaf5d-44d6-4c2d-8688-ba7a5f96d950",
   "metadata": {},
   "outputs": [],
   "source": []
  }
 ],
 "metadata": {
  "kernelspec": {
   "display_name": "Python 3 (ipykernel)",
   "language": "python",
   "name": "python3"
  },
  "language_info": {
   "codemirror_mode": {
    "name": "ipython",
    "version": 3
   },
   "file_extension": ".py",
   "mimetype": "text/x-python",
   "name": "python",
   "nbconvert_exporter": "python",
   "pygments_lexer": "ipython3",
   "version": "3.10.8"
  }
 },
 "nbformat": 4,
 "nbformat_minor": 5
}
